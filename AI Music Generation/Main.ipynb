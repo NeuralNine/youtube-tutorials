{
 "cells": [
  {
   "cell_type": "code",
   "execution_count": 1,
   "id": "e871ed96-8c59-43a3-9592-c323f33b4e6b",
   "metadata": {},
   "outputs": [],
   "source": [
    "import pandas as pd"
   ]
  },
  {
   "cell_type": "code",
   "execution_count": 2,
   "id": "2a9e3823-538b-41ce-a1c6-97acfd9effac",
   "metadata": {},
   "outputs": [],
   "source": [
    "df = pd.read_csv('chorales/train/chorale_000.csv')"
   ]
  },
  {
   "cell_type": "code",
   "execution_count": 3,
   "id": "903c5b49-ce4a-4ba4-9d8a-963e7d110d5c",
   "metadata": {},
   "outputs": [
    {
     "data": {
      "text/html": [
       "<div>\n",
       "<style scoped>\n",
       "    .dataframe tbody tr th:only-of-type {\n",
       "        vertical-align: middle;\n",
       "    }\n",
       "\n",
       "    .dataframe tbody tr th {\n",
       "        vertical-align: top;\n",
       "    }\n",
       "\n",
       "    .dataframe thead th {\n",
       "        text-align: right;\n",
       "    }\n",
       "</style>\n",
       "<table border=\"1\" class=\"dataframe\">\n",
       "  <thead>\n",
       "    <tr style=\"text-align: right;\">\n",
       "      <th></th>\n",
       "      <th>note0</th>\n",
       "      <th>note1</th>\n",
       "      <th>note2</th>\n",
       "      <th>note3</th>\n",
       "    </tr>\n",
       "  </thead>\n",
       "  <tbody>\n",
       "    <tr>\n",
       "      <th>0</th>\n",
       "      <td>74</td>\n",
       "      <td>70</td>\n",
       "      <td>65</td>\n",
       "      <td>58</td>\n",
       "    </tr>\n",
       "    <tr>\n",
       "      <th>1</th>\n",
       "      <td>74</td>\n",
       "      <td>70</td>\n",
       "      <td>65</td>\n",
       "      <td>58</td>\n",
       "    </tr>\n",
       "    <tr>\n",
       "      <th>2</th>\n",
       "      <td>74</td>\n",
       "      <td>70</td>\n",
       "      <td>65</td>\n",
       "      <td>58</td>\n",
       "    </tr>\n",
       "    <tr>\n",
       "      <th>3</th>\n",
       "      <td>74</td>\n",
       "      <td>70</td>\n",
       "      <td>65</td>\n",
       "      <td>58</td>\n",
       "    </tr>\n",
       "    <tr>\n",
       "      <th>4</th>\n",
       "      <td>75</td>\n",
       "      <td>70</td>\n",
       "      <td>58</td>\n",
       "      <td>55</td>\n",
       "    </tr>\n",
       "    <tr>\n",
       "      <th>...</th>\n",
       "      <td>...</td>\n",
       "      <td>...</td>\n",
       "      <td>...</td>\n",
       "      <td>...</td>\n",
       "    </tr>\n",
       "    <tr>\n",
       "      <th>187</th>\n",
       "      <td>70</td>\n",
       "      <td>65</td>\n",
       "      <td>62</td>\n",
       "      <td>46</td>\n",
       "    </tr>\n",
       "    <tr>\n",
       "      <th>188</th>\n",
       "      <td>70</td>\n",
       "      <td>65</td>\n",
       "      <td>62</td>\n",
       "      <td>46</td>\n",
       "    </tr>\n",
       "    <tr>\n",
       "      <th>189</th>\n",
       "      <td>70</td>\n",
       "      <td>65</td>\n",
       "      <td>62</td>\n",
       "      <td>46</td>\n",
       "    </tr>\n",
       "    <tr>\n",
       "      <th>190</th>\n",
       "      <td>70</td>\n",
       "      <td>65</td>\n",
       "      <td>62</td>\n",
       "      <td>46</td>\n",
       "    </tr>\n",
       "    <tr>\n",
       "      <th>191</th>\n",
       "      <td>70</td>\n",
       "      <td>65</td>\n",
       "      <td>62</td>\n",
       "      <td>46</td>\n",
       "    </tr>\n",
       "  </tbody>\n",
       "</table>\n",
       "<p>192 rows × 4 columns</p>\n",
       "</div>"
      ],
      "text/plain": [
       "     note0  note1  note2  note3\n",
       "0       74     70     65     58\n",
       "1       74     70     65     58\n",
       "2       74     70     65     58\n",
       "3       74     70     65     58\n",
       "4       75     70     58     55\n",
       "..     ...    ...    ...    ...\n",
       "187     70     65     62     46\n",
       "188     70     65     62     46\n",
       "189     70     65     62     46\n",
       "190     70     65     62     46\n",
       "191     70     65     62     46\n",
       "\n",
       "[192 rows x 4 columns]"
      ]
     },
     "execution_count": 3,
     "metadata": {},
     "output_type": "execute_result"
    }
   ],
   "source": [
    "df"
   ]
  },
  {
   "cell_type": "code",
   "execution_count": 4,
   "id": "3ce65a30-ee9b-44ff-a8db-f669aa5ac524",
   "metadata": {},
   "outputs": [],
   "source": [
    "import os\n",
    "\n",
    "train_files = sorted([os.path.join('chorales', 'train', f) for f in os.listdir(os.path.join('chorales', 'train')) if f.endswith('.csv')])\n",
    "valid_files = sorted([os.path.join('chorales', 'valid', f) for f in os.listdir(os.path.join('chorales', 'valid')) if f.endswith('.csv')])\n",
    "test_files = sorted([os.path.join('chorales', 'test', f) for f in os.listdir(os.path.join('chorales', 'test')) if f.endswith('.csv')])"
   ]
  },
  {
   "cell_type": "code",
   "execution_count": 5,
   "id": "2e0e7dbf-3fdf-4014-ba5c-077a280d2e97",
   "metadata": {},
   "outputs": [],
   "source": [
    "train_data = [pd.read_csv(f).values.tolist() for f in train_files]\n",
    "valid_data = [pd.read_csv(f).values.tolist() for f in valid_files]\n",
    "test_data = [pd.read_csv(f).values.tolist() for f in test_files]"
   ]
  },
  {
   "cell_type": "markdown",
   "id": "835a44c3-5c9c-4e18-8e77-f8ab49276c7d",
   "metadata": {},
   "source": [
    "Lowest note: 36 -> C1<br>\n",
    "Highest note: 81 -> A5<br>\n",
    "Silence: 0"
   ]
  },
  {
   "cell_type": "code",
   "execution_count": 6,
   "id": "cdf38ebb-d641-4961-b523-617f59602c70",
   "metadata": {
    "collapsed": true,
    "jupyter": {
     "outputs_hidden": true
    }
   },
   "outputs": [
    {
     "data": {
      "text/plain": [
       "[[74, 70, 65, 58],\n",
       " [74, 70, 65, 58],\n",
       " [74, 70, 65, 58],\n",
       " [74, 70, 65, 58],\n",
       " [75, 70, 58, 55],\n",
       " [75, 70, 58, 55],\n",
       " [75, 70, 60, 55],\n",
       " [75, 70, 60, 55],\n",
       " [77, 69, 62, 50],\n",
       " [77, 69, 62, 50],\n",
       " [77, 69, 62, 50],\n",
       " [77, 69, 62, 50],\n",
       " [77, 70, 62, 55],\n",
       " [77, 70, 62, 55],\n",
       " [77, 69, 62, 55],\n",
       " [77, 69, 62, 55],\n",
       " [75, 67, 63, 48],\n",
       " [75, 67, 63, 48],\n",
       " [75, 69, 63, 48],\n",
       " [75, 69, 63, 48],\n",
       " [74, 70, 65, 46],\n",
       " [74, 70, 65, 46],\n",
       " [74, 70, 65, 46],\n",
       " [74, 70, 65, 46],\n",
       " [72, 69, 65, 53],\n",
       " [72, 69, 65, 53],\n",
       " [72, 69, 65, 53],\n",
       " [72, 69, 65, 53],\n",
       " [72, 69, 65, 53],\n",
       " [72, 69, 65, 53],\n",
       " [72, 69, 65, 53],\n",
       " [72, 69, 65, 53],\n",
       " [74, 70, 65, 46],\n",
       " [74, 70, 65, 46],\n",
       " [74, 70, 65, 46],\n",
       " [74, 70, 65, 46],\n",
       " [75, 69, 63, 48],\n",
       " [75, 69, 63, 48],\n",
       " [75, 67, 63, 48],\n",
       " [75, 67, 63, 48],\n",
       " [77, 65, 62, 50],\n",
       " [77, 65, 62, 50],\n",
       " [77, 65, 60, 50],\n",
       " [77, 65, 60, 50],\n",
       " [74, 67, 58, 55],\n",
       " [74, 67, 58, 55],\n",
       " [74, 67, 58, 53],\n",
       " [74, 67, 58, 53],\n",
       " [72, 67, 58, 51],\n",
       " [72, 67, 58, 51],\n",
       " [72, 67, 58, 51],\n",
       " [72, 67, 58, 51],\n",
       " [72, 65, 57, 53],\n",
       " [72, 65, 57, 53],\n",
       " [72, 65, 57, 53],\n",
       " [72, 65, 57, 53],\n",
       " [70, 65, 62, 46],\n",
       " [70, 65, 62, 46],\n",
       " [70, 65, 62, 46],\n",
       " [70, 65, 62, 46],\n",
       " [70, 65, 62, 46],\n",
       " [70, 65, 62, 46],\n",
       " [70, 65, 62, 46],\n",
       " [70, 65, 62, 46],\n",
       " [72, 69, 65, 53],\n",
       " [72, 69, 65, 53],\n",
       " [72, 69, 65, 53],\n",
       " [72, 69, 65, 53],\n",
       " [74, 71, 53, 50],\n",
       " [74, 71, 53, 50],\n",
       " [74, 71, 53, 50],\n",
       " [74, 71, 53, 50],\n",
       " [75, 72, 55, 48],\n",
       " [75, 72, 55, 48],\n",
       " [75, 72, 55, 50],\n",
       " [75, 72, 55, 50],\n",
       " [75, 67, 60, 51],\n",
       " [75, 67, 60, 51],\n",
       " [75, 67, 60, 53],\n",
       " [75, 67, 60, 53],\n",
       " [74, 67, 60, 55],\n",
       " [74, 67, 60, 55],\n",
       " [74, 67, 57, 55],\n",
       " [74, 67, 57, 55],\n",
       " [74, 65, 59, 43],\n",
       " [74, 65, 59, 43],\n",
       " [72, 63, 59, 43],\n",
       " [72, 63, 59, 43],\n",
       " [72, 63, 55, 48],\n",
       " [72, 63, 55, 48],\n",
       " [72, 63, 55, 48],\n",
       " [72, 63, 55, 48],\n",
       " [72, 63, 55, 48],\n",
       " [72, 63, 55, 48],\n",
       " [72, 63, 55, 48],\n",
       " [72, 63, 55, 48],\n",
       " [75, 67, 60, 60],\n",
       " [75, 67, 60, 60],\n",
       " [75, 67, 60, 60],\n",
       " [75, 67, 60, 60],\n",
       " [77, 70, 62, 58],\n",
       " [77, 70, 62, 58],\n",
       " [77, 70, 62, 56],\n",
       " [77, 70, 62, 56],\n",
       " [79, 70, 62, 55],\n",
       " [79, 70, 62, 55],\n",
       " [79, 70, 62, 53],\n",
       " [79, 70, 62, 53],\n",
       " [79, 70, 63, 51],\n",
       " [79, 70, 63, 51],\n",
       " [79, 70, 63, 51],\n",
       " [79, 70, 63, 51],\n",
       " [77, 70, 63, 58],\n",
       " [77, 70, 63, 58],\n",
       " [77, 70, 60, 58],\n",
       " [77, 70, 60, 58],\n",
       " [77, 70, 62, 46],\n",
       " [77, 70, 62, 46],\n",
       " [77, 68, 62, 46],\n",
       " [75, 68, 62, 46],\n",
       " [75, 67, 58, 51],\n",
       " [75, 67, 58, 51],\n",
       " [75, 67, 58, 51],\n",
       " [75, 67, 58, 51],\n",
       " [75, 67, 58, 51],\n",
       " [75, 67, 58, 51],\n",
       " [75, 67, 58, 51],\n",
       " [75, 67, 58, 51],\n",
       " [74, 67, 58, 55],\n",
       " [74, 67, 58, 55],\n",
       " [74, 67, 58, 55],\n",
       " [74, 67, 58, 55],\n",
       " [75, 67, 58, 53],\n",
       " [75, 67, 58, 53],\n",
       " [75, 67, 58, 51],\n",
       " [75, 67, 58, 51],\n",
       " [77, 65, 58, 50],\n",
       " [77, 65, 58, 50],\n",
       " [77, 65, 56, 50],\n",
       " [77, 65, 56, 50],\n",
       " [70, 63, 55, 51],\n",
       " [70, 63, 55, 51],\n",
       " [70, 63, 55, 51],\n",
       " [70, 63, 55, 51],\n",
       " [75, 65, 60, 45],\n",
       " [75, 65, 60, 45],\n",
       " [75, 65, 60, 45],\n",
       " [75, 65, 60, 45],\n",
       " [74, 65, 58, 46],\n",
       " [74, 65, 58, 46],\n",
       " [74, 65, 58, 46],\n",
       " [74, 65, 58, 46],\n",
       " [72, 65, 57, 53],\n",
       " [72, 65, 57, 53],\n",
       " [72, 65, 57, 53],\n",
       " [72, 65, 57, 53],\n",
       " [72, 65, 57, 53],\n",
       " [72, 65, 57, 53],\n",
       " [72, 65, 57, 53],\n",
       " [72, 65, 57, 53],\n",
       " [74, 65, 58, 58],\n",
       " [74, 65, 58, 58],\n",
       " [74, 65, 58, 58],\n",
       " [74, 65, 58, 58],\n",
       " [75, 67, 58, 57],\n",
       " [75, 67, 58, 57],\n",
       " [75, 67, 58, 55],\n",
       " [75, 67, 58, 55],\n",
       " [77, 65, 60, 57],\n",
       " [77, 65, 60, 57],\n",
       " [77, 65, 60, 53],\n",
       " [77, 65, 60, 53],\n",
       " [74, 65, 58, 58],\n",
       " [74, 65, 58, 58],\n",
       " [74, 65, 58, 58],\n",
       " [74, 65, 58, 58],\n",
       " [72, 67, 58, 51],\n",
       " [72, 67, 58, 51],\n",
       " [72, 67, 58, 51],\n",
       " [72, 67, 58, 51],\n",
       " [72, 65, 57, 53],\n",
       " [72, 65, 57, 53],\n",
       " [72, 65, 57, 53],\n",
       " [72, 65, 57, 53],\n",
       " [70, 65, 62, 46],\n",
       " [70, 65, 62, 46],\n",
       " [70, 65, 62, 46],\n",
       " [70, 65, 62, 46],\n",
       " [70, 65, 62, 46],\n",
       " [70, 65, 62, 46],\n",
       " [70, 65, 62, 46],\n",
       " [70, 65, 62, 46]]"
      ]
     },
     "execution_count": 6,
     "metadata": {},
     "output_type": "execute_result"
    }
   ],
   "source": [
    "train_data[0]"
   ]
  },
  {
   "cell_type": "code",
   "execution_count": 7,
   "id": "43aa5902-d5a8-482d-9e34-a0a46257f1bd",
   "metadata": {},
   "outputs": [
    {
     "data": {
      "text/html": [
       "\n",
       "        <div id=\"midiPlayerDiv988\"></div>\n",
       "        <link rel=\"stylesheet\" href=\"https://cuthbertLab.github.io/music21j/css/m21.css\">\n",
       "        \n",
       "        <script\n",
       "        src=\"https://cdnjs.cloudflare.com/ajax/libs/require.js/2.3.6/require.min.js\"\n",
       "        ></script>\n",
       "    \n",
       "        <script>\n",
       "        function midiPlayerDiv988_play() {\n",
       "            const rq = require.config({\n",
       "                paths: {\n",
       "                    'music21': 'https://cuthbertLab.github.io/music21j/releases/music21.debug',\n",
       "                }\n",
       "            });\n",
       "            rq(['music21'], function(music21) {\n",
       "                mp = new music21.miditools.MidiPlayer();\n",
       "                mp.addPlayer(\"#midiPlayerDiv988\");\n",
       "                mp.base64Load(\"data:audio/midi;base64,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\");\n",
       "            });\n",
       "        }\n",
       "        if (typeof require === 'undefined') {\n",
       "            setTimeout(midiPlayerDiv988_play, 2000);\n",
       "        } else {\n",
       "            midiPlayerDiv988_play();\n",
       "        }\n",
       "        </script>"
      ],
      "text/plain": [
       "<IPython.core.display.HTML object>"
      ]
     },
     "metadata": {},
     "output_type": "display_data"
    }
   ],
   "source": [
    "from music21 import stream, chord\n",
    "\n",
    "chorale = train_data[20]\n",
    "s = stream.Stream()\n",
    "for row in chorale:\n",
    "    s.append(chord.Chord([n for n in row if n], quarterLength=1))\n",
    "s.show('midi')"
   ]
  },
  {
   "cell_type": "markdown",
   "id": "a48b4d1e-05d1-4f4a-aff7-f00e4f0cb0c2",
   "metadata": {},
   "source": [
    "### Preprocessing Data"
   ]
  },
  {
   "cell_type": "code",
   "execution_count": 8,
   "id": "2602b0dc-df4d-4c9d-9690-601af0c9bc1d",
   "metadata": {},
   "outputs": [],
   "source": [
    "import numpy as np\n",
    "\n",
    "min_note, max_note = 36, 81\n",
    "window_size, window_offset, batch_size = 32, 16, 32\n",
    "\n",
    "\n",
    "def make_xy(chorales):\n",
    "    # get segments of 33 chords with 16 chords offset between them\n",
    "    windows = [c[i:i + window_size + 1] for c in chorales for i in range(0, len(c) - window_size, window_offset)]\n",
    "\n",
    "    data = np.array(windows, dtype=int)\n",
    "    # if note is 0, keep it, otherwise rescale notes from 36-81 to 1-46\n",
    "    data = np.where(data==0, 0, data - min_note + 1)\n",
    "    # make the range 0-46 in total\n",
    "    data = np.clip(data, 0, max_note - min_note + 1)\n",
    "\n",
    "    flat = data.reshape(data.shape[0], -1)\n",
    "\n",
    "    # return every chord except the last one for X (32 notes) and everything except the first one for Y (32 notes)\n",
    "    return flat[:, :-1], flat[:, 1:]\n",
    "\n",
    "\n",
    "X_train, Y_train = make_xy(train_data)\n",
    "X_valid, Y_valid = make_xy(valid_data)\n",
    "X_test,  Y_test  = make_xy(test_data)"
   ]
  },
  {
   "cell_type": "code",
   "execution_count": 9,
   "id": "4069b5ca-75aa-4e4a-b4f5-097e0819f290",
   "metadata": {},
   "outputs": [
    {
     "data": {
      "text/plain": [
       "(3111, 131)"
      ]
     },
     "execution_count": 9,
     "metadata": {},
     "output_type": "execute_result"
    }
   ],
   "source": [
    "X_train.shape  # 3111 times 32 chords with 4 notes each"
   ]
  },
  {
   "cell_type": "code",
   "execution_count": 10,
   "id": "c9f9e791-3544-4ffa-8b54-2203bdb5b610",
   "metadata": {},
   "outputs": [
    {
     "data": {
      "text/plain": [
       "(3111, 131)"
      ]
     },
     "execution_count": 10,
     "metadata": {},
     "output_type": "execute_result"
    }
   ],
   "source": [
    "Y_train.shape  # same but shifted by one"
   ]
  },
  {
   "cell_type": "markdown",
   "id": "e2eae12a-0625-40cd-98a8-4abda73941dc",
   "metadata": {},
   "source": [
    "### Training Model"
   ]
  },
  {
   "cell_type": "code",
   "execution_count": 11,
   "id": "ac4925e6-f0f0-469c-9f73-f759bd1c5568",
   "metadata": {
    "scrolled": true
   },
   "outputs": [
    {
     "name": "stderr",
     "output_type": "stream",
     "text": [
      "2025-08-13 14:17:32.417476: I external/local_xla/xla/tsl/cuda/cudart_stub.cc:32] Could not find cuda drivers on your machine, GPU will not be used.\n",
      "2025-08-13 14:17:32.427751: I external/local_xla/xla/tsl/cuda/cudart_stub.cc:32] Could not find cuda drivers on your machine, GPU will not be used.\n",
      "2025-08-13 14:17:32.437842: E external/local_xla/xla/stream_executor/cuda/cuda_fft.cc:467] Unable to register cuFFT factory: Attempting to register factory for plugin cuFFT when one has already been registered\n",
      "WARNING: All log messages before absl::InitializeLog() is called are written to STDERR\n",
      "E0000 00:00:1755087452.453131 1112079 cuda_dnn.cc:8579] Unable to register cuDNN factory: Attempting to register factory for plugin cuDNN when one has already been registered\n",
      "E0000 00:00:1755087452.457436 1112079 cuda_blas.cc:1407] Unable to register cuBLAS factory: Attempting to register factory for plugin cuBLAS when one has already been registered\n",
      "W0000 00:00:1755087452.472060 1112079 computation_placer.cc:177] computation placer already registered. Please check linkage and avoid linking the same target more than once.\n",
      "W0000 00:00:1755087452.472072 1112079 computation_placer.cc:177] computation placer already registered. Please check linkage and avoid linking the same target more than once.\n",
      "W0000 00:00:1755087452.472074 1112079 computation_placer.cc:177] computation placer already registered. Please check linkage and avoid linking the same target more than once.\n",
      "W0000 00:00:1755087452.472076 1112079 computation_placer.cc:177] computation placer already registered. Please check linkage and avoid linking the same target more than once.\n",
      "2025-08-13 14:17:32.475959: I tensorflow/core/platform/cpu_feature_guard.cc:210] This TensorFlow binary is optimized to use available CPU instructions in performance-critical operations.\n",
      "To enable the following instructions: AVX2 FMA, in other operations, rebuild TensorFlow with the appropriate compiler flags.\n"
     ]
    }
   ],
   "source": [
    "from tensorflow.keras.models import Sequential\n",
    "from tensorflow.keras.layers import Dense, Embedding, Conv1D, BatchNormalization, LSTM, Dropout\n",
    "from tensorflow.keras.optimizers import Nadam"
   ]
  },
  {
   "cell_type": "code",
   "execution_count": 12,
   "id": "76c5d2cd-c4ad-44e9-bbcd-9a64a53724fb",
   "metadata": {},
   "outputs": [
    {
     "data": {
      "text/plain": [
       "47"
      ]
     },
     "execution_count": 12,
     "metadata": {},
     "output_type": "execute_result"
    }
   ],
   "source": [
    "train_notes = set([z for x in train_data for y in x for z in y])\n",
    "test_notes = set([z for x in test_data for y in x for z in y])\n",
    "valid_notes = set([z for x in valid_data for y in x for z in y])\n",
    "\n",
    "num_notes = len(set.union(train_notes, test_notes, valid_notes))\n",
    "num_notes"
   ]
  },
  {
   "cell_type": "code",
   "execution_count": 13,
   "id": "7d67a2f5-d22d-4389-b67e-ed7bac1cdcb4",
   "metadata": {},
   "outputs": [
    {
     "name": "stderr",
     "output_type": "stream",
     "text": [
      "/home/neuralnine/Documents/Programming/NeuralNine/Prepared/AI Bach Music/.venv/lib/python3.11/site-packages/keras/src/layers/core/embedding.py:100: UserWarning: Do not pass an `input_shape`/`input_dim` argument to a layer. When using Sequential models, prefer using an `Input(shape)` object as the first layer in the model instead.\n",
      "  super().__init__(**kwargs)\n",
      "E0000 00:00:1755087454.143092 1112079 cuda_executor.cc:1228] INTERNAL: CUDA Runtime error: Failed call to cudaGetRuntimeVersion: Error loading CUDA libraries. GPU will not be used.: Error loading CUDA libraries. GPU will not be used.\n",
      "W0000 00:00:1755087454.151508 1112079 gpu_device.cc:2341] Cannot dlopen some GPU libraries. Please make sure the missing libraries mentioned above are installed properly if you would like to use GPU. Follow the guide at https://www.tensorflow.org/install/gpu for how to download and setup the required libraries for your platform.\n",
      "Skipping registering GPU devices...\n"
     ]
    },
    {
     "data": {
      "text/html": [
       "<pre style=\"white-space:pre;overflow-x:auto;line-height:normal;font-family:Menlo,'DejaVu Sans Mono',consolas,'Courier New',monospace\"><span style=\"font-weight: bold\">Model: \"sequential\"</span>\n",
       "</pre>\n"
      ],
      "text/plain": [
       "\u001b[1mModel: \"sequential\"\u001b[0m\n"
      ]
     },
     "metadata": {},
     "output_type": "display_data"
    },
    {
     "data": {
      "text/html": [
       "<pre style=\"white-space:pre;overflow-x:auto;line-height:normal;font-family:Menlo,'DejaVu Sans Mono',consolas,'Courier New',monospace\">┏━━━━━━━━━━━━━━━━━━━━━━━━━━━━━━━━━┳━━━━━━━━━━━━━━━━━━━━━━━━┳━━━━━━━━━━━━━━━┓\n",
       "┃<span style=\"font-weight: bold\"> Layer (type)                    </span>┃<span style=\"font-weight: bold\"> Output Shape           </span>┃<span style=\"font-weight: bold\">       Param # </span>┃\n",
       "┡━━━━━━━━━━━━━━━━━━━━━━━━━━━━━━━━━╇━━━━━━━━━━━━━━━━━━━━━━━━╇━━━━━━━━━━━━━━━┩\n",
       "│ embedding (<span style=\"color: #0087ff; text-decoration-color: #0087ff\">Embedding</span>)           │ (<span style=\"color: #00d7ff; text-decoration-color: #00d7ff\">None</span>, <span style=\"color: #00d7ff; text-decoration-color: #00d7ff\">None</span>, <span style=\"color: #00af00; text-decoration-color: #00af00\">5</span>)        │           <span style=\"color: #00af00; text-decoration-color: #00af00\">235</span> │\n",
       "├─────────────────────────────────┼────────────────────────┼───────────────┤\n",
       "│ conv1d (<span style=\"color: #0087ff; text-decoration-color: #0087ff\">Conv1D</span>)                 │ (<span style=\"color: #00d7ff; text-decoration-color: #00d7ff\">None</span>, <span style=\"color: #00d7ff; text-decoration-color: #00d7ff\">None</span>, <span style=\"color: #00af00; text-decoration-color: #00af00\">32</span>)       │           <span style=\"color: #00af00; text-decoration-color: #00af00\">352</span> │\n",
       "├─────────────────────────────────┼────────────────────────┼───────────────┤\n",
       "│ batch_normalization             │ (<span style=\"color: #00d7ff; text-decoration-color: #00d7ff\">None</span>, <span style=\"color: #00d7ff; text-decoration-color: #00d7ff\">None</span>, <span style=\"color: #00af00; text-decoration-color: #00af00\">32</span>)       │           <span style=\"color: #00af00; text-decoration-color: #00af00\">128</span> │\n",
       "│ (<span style=\"color: #0087ff; text-decoration-color: #0087ff\">BatchNormalization</span>)            │                        │               │\n",
       "├─────────────────────────────────┼────────────────────────┼───────────────┤\n",
       "│ conv1d_1 (<span style=\"color: #0087ff; text-decoration-color: #0087ff\">Conv1D</span>)               │ (<span style=\"color: #00d7ff; text-decoration-color: #00d7ff\">None</span>, <span style=\"color: #00d7ff; text-decoration-color: #00d7ff\">None</span>, <span style=\"color: #00af00; text-decoration-color: #00af00\">48</span>)       │         <span style=\"color: #00af00; text-decoration-color: #00af00\">3,120</span> │\n",
       "├─────────────────────────────────┼────────────────────────┼───────────────┤\n",
       "│ batch_normalization_1           │ (<span style=\"color: #00d7ff; text-decoration-color: #00d7ff\">None</span>, <span style=\"color: #00d7ff; text-decoration-color: #00d7ff\">None</span>, <span style=\"color: #00af00; text-decoration-color: #00af00\">48</span>)       │           <span style=\"color: #00af00; text-decoration-color: #00af00\">192</span> │\n",
       "│ (<span style=\"color: #0087ff; text-decoration-color: #0087ff\">BatchNormalization</span>)            │                        │               │\n",
       "├─────────────────────────────────┼────────────────────────┼───────────────┤\n",
       "│ conv1d_2 (<span style=\"color: #0087ff; text-decoration-color: #0087ff\">Conv1D</span>)               │ (<span style=\"color: #00d7ff; text-decoration-color: #00d7ff\">None</span>, <span style=\"color: #00d7ff; text-decoration-color: #00d7ff\">None</span>, <span style=\"color: #00af00; text-decoration-color: #00af00\">64</span>)       │         <span style=\"color: #00af00; text-decoration-color: #00af00\">6,208</span> │\n",
       "├─────────────────────────────────┼────────────────────────┼───────────────┤\n",
       "│ batch_normalization_2           │ (<span style=\"color: #00d7ff; text-decoration-color: #00d7ff\">None</span>, <span style=\"color: #00d7ff; text-decoration-color: #00d7ff\">None</span>, <span style=\"color: #00af00; text-decoration-color: #00af00\">64</span>)       │           <span style=\"color: #00af00; text-decoration-color: #00af00\">256</span> │\n",
       "│ (<span style=\"color: #0087ff; text-decoration-color: #0087ff\">BatchNormalization</span>)            │                        │               │\n",
       "├─────────────────────────────────┼────────────────────────┼───────────────┤\n",
       "│ conv1d_3 (<span style=\"color: #0087ff; text-decoration-color: #0087ff\">Conv1D</span>)               │ (<span style=\"color: #00d7ff; text-decoration-color: #00d7ff\">None</span>, <span style=\"color: #00d7ff; text-decoration-color: #00d7ff\">None</span>, <span style=\"color: #00af00; text-decoration-color: #00af00\">96</span>)       │        <span style=\"color: #00af00; text-decoration-color: #00af00\">12,384</span> │\n",
       "├─────────────────────────────────┼────────────────────────┼───────────────┤\n",
       "│ batch_normalization_3           │ (<span style=\"color: #00d7ff; text-decoration-color: #00d7ff\">None</span>, <span style=\"color: #00d7ff; text-decoration-color: #00d7ff\">None</span>, <span style=\"color: #00af00; text-decoration-color: #00af00\">96</span>)       │           <span style=\"color: #00af00; text-decoration-color: #00af00\">384</span> │\n",
       "│ (<span style=\"color: #0087ff; text-decoration-color: #0087ff\">BatchNormalization</span>)            │                        │               │\n",
       "├─────────────────────────────────┼────────────────────────┼───────────────┤\n",
       "│ conv1d_4 (<span style=\"color: #0087ff; text-decoration-color: #0087ff\">Conv1D</span>)               │ (<span style=\"color: #00d7ff; text-decoration-color: #00d7ff\">None</span>, <span style=\"color: #00d7ff; text-decoration-color: #00d7ff\">None</span>, <span style=\"color: #00af00; text-decoration-color: #00af00\">128</span>)      │        <span style=\"color: #00af00; text-decoration-color: #00af00\">24,704</span> │\n",
       "├─────────────────────────────────┼────────────────────────┼───────────────┤\n",
       "│ batch_normalization_4           │ (<span style=\"color: #00d7ff; text-decoration-color: #00d7ff\">None</span>, <span style=\"color: #00d7ff; text-decoration-color: #00d7ff\">None</span>, <span style=\"color: #00af00; text-decoration-color: #00af00\">128</span>)      │           <span style=\"color: #00af00; text-decoration-color: #00af00\">512</span> │\n",
       "│ (<span style=\"color: #0087ff; text-decoration-color: #0087ff\">BatchNormalization</span>)            │                        │               │\n",
       "├─────────────────────────────────┼────────────────────────┼───────────────┤\n",
       "│ dropout (<span style=\"color: #0087ff; text-decoration-color: #0087ff\">Dropout</span>)               │ (<span style=\"color: #00d7ff; text-decoration-color: #00d7ff\">None</span>, <span style=\"color: #00d7ff; text-decoration-color: #00d7ff\">None</span>, <span style=\"color: #00af00; text-decoration-color: #00af00\">128</span>)      │             <span style=\"color: #00af00; text-decoration-color: #00af00\">0</span> │\n",
       "├─────────────────────────────────┼────────────────────────┼───────────────┤\n",
       "│ lstm (<span style=\"color: #0087ff; text-decoration-color: #0087ff\">LSTM</span>)                     │ (<span style=\"color: #00d7ff; text-decoration-color: #00d7ff\">None</span>, <span style=\"color: #00d7ff; text-decoration-color: #00d7ff\">None</span>, <span style=\"color: #00af00; text-decoration-color: #00af00\">256</span>)      │       <span style=\"color: #00af00; text-decoration-color: #00af00\">394,240</span> │\n",
       "├─────────────────────────────────┼────────────────────────┼───────────────┤\n",
       "│ dense (<span style=\"color: #0087ff; text-decoration-color: #0087ff\">Dense</span>)                   │ (<span style=\"color: #00d7ff; text-decoration-color: #00d7ff\">None</span>, <span style=\"color: #00d7ff; text-decoration-color: #00d7ff\">None</span>, <span style=\"color: #00af00; text-decoration-color: #00af00\">47</span>)       │        <span style=\"color: #00af00; text-decoration-color: #00af00\">12,079</span> │\n",
       "└─────────────────────────────────┴────────────────────────┴───────────────┘\n",
       "</pre>\n"
      ],
      "text/plain": [
       "┏━━━━━━━━━━━━━━━━━━━━━━━━━━━━━━━━━┳━━━━━━━━━━━━━━━━━━━━━━━━┳━━━━━━━━━━━━━━━┓\n",
       "┃\u001b[1m \u001b[0m\u001b[1mLayer (type)                   \u001b[0m\u001b[1m \u001b[0m┃\u001b[1m \u001b[0m\u001b[1mOutput Shape          \u001b[0m\u001b[1m \u001b[0m┃\u001b[1m \u001b[0m\u001b[1m      Param #\u001b[0m\u001b[1m \u001b[0m┃\n",
       "┡━━━━━━━━━━━━━━━━━━━━━━━━━━━━━━━━━╇━━━━━━━━━━━━━━━━━━━━━━━━╇━━━━━━━━━━━━━━━┩\n",
       "│ embedding (\u001b[38;5;33mEmbedding\u001b[0m)           │ (\u001b[38;5;45mNone\u001b[0m, \u001b[38;5;45mNone\u001b[0m, \u001b[38;5;34m5\u001b[0m)        │           \u001b[38;5;34m235\u001b[0m │\n",
       "├─────────────────────────────────┼────────────────────────┼───────────────┤\n",
       "│ conv1d (\u001b[38;5;33mConv1D\u001b[0m)                 │ (\u001b[38;5;45mNone\u001b[0m, \u001b[38;5;45mNone\u001b[0m, \u001b[38;5;34m32\u001b[0m)       │           \u001b[38;5;34m352\u001b[0m │\n",
       "├─────────────────────────────────┼────────────────────────┼───────────────┤\n",
       "│ batch_normalization             │ (\u001b[38;5;45mNone\u001b[0m, \u001b[38;5;45mNone\u001b[0m, \u001b[38;5;34m32\u001b[0m)       │           \u001b[38;5;34m128\u001b[0m │\n",
       "│ (\u001b[38;5;33mBatchNormalization\u001b[0m)            │                        │               │\n",
       "├─────────────────────────────────┼────────────────────────┼───────────────┤\n",
       "│ conv1d_1 (\u001b[38;5;33mConv1D\u001b[0m)               │ (\u001b[38;5;45mNone\u001b[0m, \u001b[38;5;45mNone\u001b[0m, \u001b[38;5;34m48\u001b[0m)       │         \u001b[38;5;34m3,120\u001b[0m │\n",
       "├─────────────────────────────────┼────────────────────────┼───────────────┤\n",
       "│ batch_normalization_1           │ (\u001b[38;5;45mNone\u001b[0m, \u001b[38;5;45mNone\u001b[0m, \u001b[38;5;34m48\u001b[0m)       │           \u001b[38;5;34m192\u001b[0m │\n",
       "│ (\u001b[38;5;33mBatchNormalization\u001b[0m)            │                        │               │\n",
       "├─────────────────────────────────┼────────────────────────┼───────────────┤\n",
       "│ conv1d_2 (\u001b[38;5;33mConv1D\u001b[0m)               │ (\u001b[38;5;45mNone\u001b[0m, \u001b[38;5;45mNone\u001b[0m, \u001b[38;5;34m64\u001b[0m)       │         \u001b[38;5;34m6,208\u001b[0m │\n",
       "├─────────────────────────────────┼────────────────────────┼───────────────┤\n",
       "│ batch_normalization_2           │ (\u001b[38;5;45mNone\u001b[0m, \u001b[38;5;45mNone\u001b[0m, \u001b[38;5;34m64\u001b[0m)       │           \u001b[38;5;34m256\u001b[0m │\n",
       "│ (\u001b[38;5;33mBatchNormalization\u001b[0m)            │                        │               │\n",
       "├─────────────────────────────────┼────────────────────────┼───────────────┤\n",
       "│ conv1d_3 (\u001b[38;5;33mConv1D\u001b[0m)               │ (\u001b[38;5;45mNone\u001b[0m, \u001b[38;5;45mNone\u001b[0m, \u001b[38;5;34m96\u001b[0m)       │        \u001b[38;5;34m12,384\u001b[0m │\n",
       "├─────────────────────────────────┼────────────────────────┼───────────────┤\n",
       "│ batch_normalization_3           │ (\u001b[38;5;45mNone\u001b[0m, \u001b[38;5;45mNone\u001b[0m, \u001b[38;5;34m96\u001b[0m)       │           \u001b[38;5;34m384\u001b[0m │\n",
       "│ (\u001b[38;5;33mBatchNormalization\u001b[0m)            │                        │               │\n",
       "├─────────────────────────────────┼────────────────────────┼───────────────┤\n",
       "│ conv1d_4 (\u001b[38;5;33mConv1D\u001b[0m)               │ (\u001b[38;5;45mNone\u001b[0m, \u001b[38;5;45mNone\u001b[0m, \u001b[38;5;34m128\u001b[0m)      │        \u001b[38;5;34m24,704\u001b[0m │\n",
       "├─────────────────────────────────┼────────────────────────┼───────────────┤\n",
       "│ batch_normalization_4           │ (\u001b[38;5;45mNone\u001b[0m, \u001b[38;5;45mNone\u001b[0m, \u001b[38;5;34m128\u001b[0m)      │           \u001b[38;5;34m512\u001b[0m │\n",
       "│ (\u001b[38;5;33mBatchNormalization\u001b[0m)            │                        │               │\n",
       "├─────────────────────────────────┼────────────────────────┼───────────────┤\n",
       "│ dropout (\u001b[38;5;33mDropout\u001b[0m)               │ (\u001b[38;5;45mNone\u001b[0m, \u001b[38;5;45mNone\u001b[0m, \u001b[38;5;34m128\u001b[0m)      │             \u001b[38;5;34m0\u001b[0m │\n",
       "├─────────────────────────────────┼────────────────────────┼───────────────┤\n",
       "│ lstm (\u001b[38;5;33mLSTM\u001b[0m)                     │ (\u001b[38;5;45mNone\u001b[0m, \u001b[38;5;45mNone\u001b[0m, \u001b[38;5;34m256\u001b[0m)      │       \u001b[38;5;34m394,240\u001b[0m │\n",
       "├─────────────────────────────────┼────────────────────────┼───────────────┤\n",
       "│ dense (\u001b[38;5;33mDense\u001b[0m)                   │ (\u001b[38;5;45mNone\u001b[0m, \u001b[38;5;45mNone\u001b[0m, \u001b[38;5;34m47\u001b[0m)       │        \u001b[38;5;34m12,079\u001b[0m │\n",
       "└─────────────────────────────────┴────────────────────────┴───────────────┘\n"
      ]
     },
     "metadata": {},
     "output_type": "display_data"
    },
    {
     "data": {
      "text/html": [
       "<pre style=\"white-space:pre;overflow-x:auto;line-height:normal;font-family:Menlo,'DejaVu Sans Mono',consolas,'Courier New',monospace\"><span style=\"font-weight: bold\"> Total params: </span><span style=\"color: #00af00; text-decoration-color: #00af00\">454,794</span> (1.73 MB)\n",
       "</pre>\n"
      ],
      "text/plain": [
       "\u001b[1m Total params: \u001b[0m\u001b[38;5;34m454,794\u001b[0m (1.73 MB)\n"
      ]
     },
     "metadata": {},
     "output_type": "display_data"
    },
    {
     "data": {
      "text/html": [
       "<pre style=\"white-space:pre;overflow-x:auto;line-height:normal;font-family:Menlo,'DejaVu Sans Mono',consolas,'Courier New',monospace\"><span style=\"font-weight: bold\"> Trainable params: </span><span style=\"color: #00af00; text-decoration-color: #00af00\">454,058</span> (1.73 MB)\n",
       "</pre>\n"
      ],
      "text/plain": [
       "\u001b[1m Trainable params: \u001b[0m\u001b[38;5;34m454,058\u001b[0m (1.73 MB)\n"
      ]
     },
     "metadata": {},
     "output_type": "display_data"
    },
    {
     "data": {
      "text/html": [
       "<pre style=\"white-space:pre;overflow-x:auto;line-height:normal;font-family:Menlo,'DejaVu Sans Mono',consolas,'Courier New',monospace\"><span style=\"font-weight: bold\"> Non-trainable params: </span><span style=\"color: #00af00; text-decoration-color: #00af00\">736</span> (2.88 KB)\n",
       "</pre>\n"
      ],
      "text/plain": [
       "\u001b[1m Non-trainable params: \u001b[0m\u001b[38;5;34m736\u001b[0m (2.88 KB)\n"
      ]
     },
     "metadata": {},
     "output_type": "display_data"
    }
   ],
   "source": [
    "model = Sequential()\n",
    "\n",
    "# Embedding layer so the model can learn representations of the notes (learns vector representation of notes)\n",
    "# Integers have no geometry, by learning embeddings, we can keep \"nearby\" notes close in vector space (e.g., same pitch-class, close octaves etc.)\n",
    "# Since we don't have too many notes, we can use a small dimensionality like 5\n",
    "model.add(Embedding(input_dim=num_notes, output_dim=5, input_shape=[None]))\n",
    "# 1D convs allow us to extract temporal patterns in parallel (unlike RNN layers)\n",
    "# 1D convs slide 1D kernels / filters over our feature vector to learn temporal patterns\n",
    "# Padding causal means we cannot look ahead, so we keep causality\n",
    "model.add(Conv1D(32, kernel_size=2, padding=\"causal\", activation=\"relu\"))  # here 32 filters of size 2\n",
    "# Batch norms after each conv keep activations well-scaled and consistent across the whole stack of layers\n",
    "# Counteracts vanishing / exploding gradients, allows for higher stable learning rates and faster training\n",
    "model.add(BatchNormalization())\n",
    "# Dilation rate means how much we look back\n",
    "# For example kernel size 2 and dilation rate of one means look at t and t-1\n",
    "# Kernel size 2 and dilation rate of two means look at t and t-2\n",
    "# Kernel size 2 and dilation rate of 16 means look at t and t-16\n",
    "# Stacking these increasing dilation rates allows us to efficiently cover short, medium and longer history\n",
    "# We grow the receptive field without using a lot of model parameters\n",
    "# We indirectly connect notes that are up to 32 positions apart\n",
    "model.add(Conv1D(48, kernel_size=2, padding=\"causal\", activation=\"relu\", dilation_rate=2))\n",
    "model.add(BatchNormalization())\n",
    "# Also, since we increase dilation rate, each conv layer sees a wider time span\n",
    "# More kernels / filters allow us to capture more kinds of patterns\n",
    "# If we don't increase this, we could end up with a bottleneck here\n",
    "model.add(Conv1D(64, kernel_size=2, padding=\"causal\", activation=\"relu\", dilation_rate=4))\n",
    "model.add(BatchNormalization())\n",
    "model.add(Conv1D(96, kernel_size=2, padding=\"causal\", activation=\"relu\", dilation_rate=8))\n",
    "model.add(BatchNormalization())\n",
    "model.add(Conv1D(128, kernel_size=2, padding=\"causal\", activation=\"relu\", dilation_rate=16))\n",
    "model.add(BatchNormalization())\n",
    "# Just a bit of regularization here so the model does not rely too much on individual features\n",
    "model.add(Dropout(0.05))\n",
    "# The conv layers summarized local and mid-range context into richer features for us\n",
    "# The LSTM now only has to track longer structure of the music\n",
    "# Doing LSTM first would lead to discovering local AND long patterns, which is slower and harder to optimize\n",
    "# Convs first is cheaper and parallelizable\n",
    "# We can basically combine the layers to look back 32 tokens (like a binary system numbers)\n",
    "model.add(LSTM(256, return_sequences=True))\n",
    "# Finally a dense layer to project the LSTM output to logits for each possible note\n",
    "model.add(Dense(num_notes, activation='softmax'))\n",
    "\n",
    "model.summary()"
   ]
  },
  {
   "cell_type": "code",
   "execution_count": 14,
   "id": "d10b59a7-ef75-4f0e-801d-79e21090e531",
   "metadata": {
    "scrolled": true
   },
   "outputs": [
    {
     "name": "stdout",
     "output_type": "stream",
     "text": [
      "Epoch 1/20\n",
      "\u001b[1m98/98\u001b[0m \u001b[32m━━━━━━━━━━━━━━━━━━━━\u001b[0m\u001b[37m\u001b[0m \u001b[1m15s\u001b[0m 124ms/step - accuracy: 0.3329 - loss: 2.6009 - val_accuracy: 0.0580 - val_loss: 3.8693\n",
      "Epoch 2/20\n",
      "\u001b[1m98/98\u001b[0m \u001b[32m━━━━━━━━━━━━━━━━━━━━\u001b[0m\u001b[37m\u001b[0m \u001b[1m12s\u001b[0m 120ms/step - accuracy: 0.7600 - loss: 0.9114 - val_accuracy: 0.1246 - val_loss: 3.7618\n",
      "Epoch 3/20\n",
      "\u001b[1m98/98\u001b[0m \u001b[32m━━━━━━━━━━━━━━━━━━━━\u001b[0m\u001b[37m\u001b[0m \u001b[1m12s\u001b[0m 120ms/step - accuracy: 0.7938 - loss: 0.7406 - val_accuracy: 0.1810 - val_loss: 2.8922\n",
      "Epoch 4/20\n",
      "\u001b[1m98/98\u001b[0m \u001b[32m━━━━━━━━━━━━━━━━━━━━\u001b[0m\u001b[37m\u001b[0m \u001b[1m12s\u001b[0m 120ms/step - accuracy: 0.8101 - loss: 0.6615 - val_accuracy: 0.3713 - val_loss: 2.1998\n",
      "Epoch 5/20\n",
      "\u001b[1m98/98\u001b[0m \u001b[32m━━━━━━━━━━━━━━━━━━━━\u001b[0m\u001b[37m\u001b[0m \u001b[1m12s\u001b[0m 121ms/step - accuracy: 0.8232 - loss: 0.6014 - val_accuracy: 0.5090 - val_loss: 1.5995\n",
      "Epoch 6/20\n",
      "\u001b[1m98/98\u001b[0m \u001b[32m━━━━━━━━━━━━━━━━━━━━\u001b[0m\u001b[37m\u001b[0m \u001b[1m12s\u001b[0m 122ms/step - accuracy: 0.8318 - loss: 0.5647 - val_accuracy: 0.7126 - val_loss: 0.9518\n",
      "Epoch 7/20\n",
      "\u001b[1m98/98\u001b[0m \u001b[32m━━━━━━━━━━━━━━━━━━━━\u001b[0m\u001b[37m\u001b[0m \u001b[1m12s\u001b[0m 122ms/step - accuracy: 0.8411 - loss: 0.5242 - val_accuracy: 0.7977 - val_loss: 0.6811\n",
      "Epoch 8/20\n",
      "\u001b[1m98/98\u001b[0m \u001b[32m━━━━━━━━━━━━━━━━━━━━\u001b[0m\u001b[37m\u001b[0m \u001b[1m12s\u001b[0m 123ms/step - accuracy: 0.8492 - loss: 0.4968 - val_accuracy: 0.8205 - val_loss: 0.6086\n",
      "Epoch 9/20\n",
      "\u001b[1m98/98\u001b[0m \u001b[32m━━━━━━━━━━━━━━━━━━━━\u001b[0m\u001b[37m\u001b[0m \u001b[1m12s\u001b[0m 123ms/step - accuracy: 0.8569 - loss: 0.4670 - val_accuracy: 0.8220 - val_loss: 0.6079\n",
      "Epoch 10/20\n",
      "\u001b[1m98/98\u001b[0m \u001b[32m━━━━━━━━━━━━━━━━━━━━\u001b[0m\u001b[37m\u001b[0m \u001b[1m12s\u001b[0m 123ms/step - accuracy: 0.8633 - loss: 0.4428 - val_accuracy: 0.8247 - val_loss: 0.5989\n",
      "Epoch 11/20\n",
      "\u001b[1m98/98\u001b[0m \u001b[32m━━━━━━━━━━━━━━━━━━━━\u001b[0m\u001b[37m\u001b[0m \u001b[1m12s\u001b[0m 123ms/step - accuracy: 0.8698 - loss: 0.4206 - val_accuracy: 0.8221 - val_loss: 0.6091\n",
      "Epoch 12/20\n",
      "\u001b[1m98/98\u001b[0m \u001b[32m━━━━━━━━━━━━━━━━━━━━\u001b[0m\u001b[37m\u001b[0m \u001b[1m12s\u001b[0m 123ms/step - accuracy: 0.8747 - loss: 0.4029 - val_accuracy: 0.8244 - val_loss: 0.5997\n",
      "Epoch 13/20\n",
      "\u001b[1m98/98\u001b[0m \u001b[32m━━━━━━━━━━━━━━━━━━━━\u001b[0m\u001b[37m\u001b[0m \u001b[1m12s\u001b[0m 123ms/step - accuracy: 0.8835 - loss: 0.3753 - val_accuracy: 0.8245 - val_loss: 0.6039\n",
      "Epoch 14/20\n",
      "\u001b[1m98/98\u001b[0m \u001b[32m━━━━━━━━━━━━━━━━━━━━\u001b[0m\u001b[37m\u001b[0m \u001b[1m12s\u001b[0m 123ms/step - accuracy: 0.8876 - loss: 0.3604 - val_accuracy: 0.8226 - val_loss: 0.6162\n",
      "Epoch 15/20\n",
      "\u001b[1m98/98\u001b[0m \u001b[32m━━━━━━━━━━━━━━━━━━━━\u001b[0m\u001b[37m\u001b[0m \u001b[1m12s\u001b[0m 124ms/step - accuracy: 0.8923 - loss: 0.3434 - val_accuracy: 0.8241 - val_loss: 0.6094\n",
      "Epoch 16/20\n",
      "\u001b[1m98/98\u001b[0m \u001b[32m━━━━━━━━━━━━━━━━━━━━\u001b[0m\u001b[37m\u001b[0m \u001b[1m12s\u001b[0m 124ms/step - accuracy: 0.8960 - loss: 0.3298 - val_accuracy: 0.8212 - val_loss: 0.6212\n",
      "Epoch 17/20\n",
      "\u001b[1m98/98\u001b[0m \u001b[32m━━━━━━━━━━━━━━━━━━━━\u001b[0m\u001b[37m\u001b[0m \u001b[1m12s\u001b[0m 125ms/step - accuracy: 0.9034 - loss: 0.3086 - val_accuracy: 0.8242 - val_loss: 0.6195\n",
      "Epoch 18/20\n",
      "\u001b[1m98/98\u001b[0m \u001b[32m━━━━━━━━━━━━━━━━━━━━\u001b[0m\u001b[37m\u001b[0m \u001b[1m12s\u001b[0m 126ms/step - accuracy: 0.9063 - loss: 0.2965 - val_accuracy: 0.8214 - val_loss: 0.6287\n",
      "Epoch 19/20\n",
      "\u001b[1m98/98\u001b[0m \u001b[32m━━━━━━━━━━━━━━━━━━━━\u001b[0m\u001b[37m\u001b[0m \u001b[1m13s\u001b[0m 129ms/step - accuracy: 0.9105 - loss: 0.2847 - val_accuracy: 0.8193 - val_loss: 0.6359\n",
      "Epoch 20/20\n",
      "\u001b[1m98/98\u001b[0m \u001b[32m━━━━━━━━━━━━━━━━━━━━\u001b[0m\u001b[37m\u001b[0m \u001b[1m13s\u001b[0m 128ms/step - accuracy: 0.9144 - loss: 0.2729 - val_accuracy: 0.8167 - val_loss: 0.6531\n"
     ]
    },
    {
     "data": {
      "text/plain": [
       "<keras.src.callbacks.history.History at 0x7f61b0afa690>"
      ]
     },
     "execution_count": 14,
     "metadata": {},
     "output_type": "execute_result"
    }
   ],
   "source": [
    "optimizer = Nadam(learning_rate=1e-3)\n",
    "model.compile(loss='sparse_categorical_crossentropy', optimizer=optimizer, metrics=['accuracy'])\n",
    "\n",
    "model.fit(X_train, Y_train, epochs=20, validation_data=[X_valid, Y_valid], batch_size=batch_size)"
   ]
  },
  {
   "cell_type": "markdown",
   "id": "f7f88aad-2f6f-44e6-98e5-506d23a8dcee",
   "metadata": {},
   "source": [
    "#### Generate Music with Model"
   ]
  },
  {
   "cell_type": "code",
   "execution_count": 15,
   "id": "d2929e0c-542a-4700-a2a4-2dd998e8c102",
   "metadata": {},
   "outputs": [],
   "source": [
    "import numpy as np\n",
    "\n",
    "\n",
    "def sample_next_note(probs):\n",
    "    probabilities = np.asarray(probs, dtype=float)  # probabilities for each note to be the next\n",
    "    \n",
    "    probs_sum = probabilities.sum()  # get the sum for normalization\n",
    "\n",
    "    # if the probability sum is zero, negative or infinite -> just return the note with the highest probability\n",
    "    if probs_sum <= 0 or not np.isfinite(probs_sum):\n",
    "        return int(np.argmax(probabilities))\n",
    "\n",
    "    probabilities /= probs_sum # otherwise normalize the probabilities to be between 0 and 1\n",
    "    return np.random.choice(len(probabilities), p=probabilities)  # randomly select a note based on probability\n",
    "    \n",
    "    \n",
    "def generate_chorale(model, seed_chords, length):\n",
    "    token_sequence = np.array(seed_chords, dtype=int)  # get starting chords / notes\n",
    "    token_sequence = np.where(token_sequence == 0, token_sequence, token_sequence - 36 + 1)  # map all notes to 0-46 as in training\n",
    "    token_sequence = token_sequence.reshape(1, -1)\n",
    "\n",
    "    # we generate note by note, not chord by chord\n",
    "    for _ in range(length * 4):\n",
    "        next_token_probabilities = model.predict(token_sequence, verbose=0)[0, -1]  # get probabilities for next note from model\n",
    "        next_token = sample_next_note(next_token_probabilities)  # sample from probabilities with sample function\n",
    "        token_sequence = np.concatenate([token_sequence, [[next_token]]], axis=1) \n",
    "        \n",
    "    token_sequence = np.where(token_sequence == 0, token_sequence, token_sequence + 36 - 1)   # map to MIDI (0 & 36-81)\n",
    "    \n",
    "    return token_sequence.reshape(-1, 4)"
   ]
  },
  {
   "cell_type": "code",
   "execution_count": 16,
   "id": "d521c93d-f804-4182-9643-a694ef7bf5ec",
   "metadata": {},
   "outputs": [
    {
     "data": {
      "text/html": [
       "\n",
       "        <div id=\"midiPlayerDiv1037\"></div>\n",
       "        <link rel=\"stylesheet\" href=\"https://cuthbertLab.github.io/music21j/css/m21.css\">\n",
       "        \n",
       "        <script\n",
       "        src=\"https://cdnjs.cloudflare.com/ajax/libs/require.js/2.3.6/require.min.js\"\n",
       "        ></script>\n",
       "    \n",
       "        <script>\n",
       "        function midiPlayerDiv1037_play() {\n",
       "            const rq = require.config({\n",
       "                paths: {\n",
       "                    'music21': 'https://cuthbertLab.github.io/music21j/releases/music21.debug',\n",
       "                }\n",
       "            });\n",
       "            rq(['music21'], function(music21) {\n",
       "                mp = new music21.miditools.MidiPlayer();\n",
       "                mp.addPlayer(\"#midiPlayerDiv1037\");\n",
       "                mp.base64Load(\"data:audio/midi;base64,TVRoZAAAAAYAAQACJ2BNVHJrAAAAFAD/UQMHoSAA/1gEBAIYCM5g/y8ATVRyawAAARYA/wMAAOAAQM5gkElaAJBEWgCQPVoAkDVazmCASQAAgEQAAIA9AACANQAAkElaAJBEWgCQPVoAkDVazmCASQAAgEQAAIA9AACANQAAkElaAJBEWgCQPVoAkDVazmCASQAAgEQAAIA9AACANQAAkElaAJBEWgCQPVoAkDVazmCASQAAgEQAAIA9AACANQAAkEVaAJBCWgCQPVoAkDZazmCARQAAgEIAAIA9AACANgAAkEVaAJBCWgCQPVoAkDZazmCARQAAgEIAAIA9AACANgAAkEVaAJBCWgCQPVoAkDZazmCARQAAgEIAAIA9AACANgAAkEVaAJBCWgCQPVoAkDZazmCARQAAgEIAAIA9AACANgDOYP8vAA==\");\n",
       "            });\n",
       "        }\n",
       "        if (typeof require === 'undefined') {\n",
       "            setTimeout(midiPlayerDiv1037_play, 2000);\n",
       "        } else {\n",
       "            midiPlayerDiv1037_play();\n",
       "        }\n",
       "        </script>"
      ],
      "text/plain": [
       "<IPython.core.display.HTML object>"
      ]
     },
     "metadata": {},
     "output_type": "display_data"
    }
   ],
   "source": [
    "# Initial chords (seed) \n",
    "seed_chords = test_data[2][:8]\n",
    "\n",
    "chorale = seed_chords\n",
    "s = stream.Stream()\n",
    "for row in chorale:\n",
    "    s.append(chord.Chord([n for n in row if n], quarterLength=1))\n",
    "s.show('midi')"
   ]
  },
  {
   "cell_type": "code",
   "execution_count": 17,
   "id": "7092fa92-8fe9-490a-a9e7-1425d9a1bd5c",
   "metadata": {},
   "outputs": [
    {
     "data": {
      "text/html": [
       "\n",
       "        <div id=\"midiPlayerDiv2026\"></div>\n",
       "        <link rel=\"stylesheet\" href=\"https://cuthbertLab.github.io/music21j/css/m21.css\">\n",
       "        \n",
       "        <script\n",
       "        src=\"https://cdnjs.cloudflare.com/ajax/libs/require.js/2.3.6/require.min.js\"\n",
       "        ></script>\n",
       "    \n",
       "        <script>\n",
       "        function midiPlayerDiv2026_play() {\n",
       "            const rq = require.config({\n",
       "                paths: {\n",
       "                    'music21': 'https://cuthbertLab.github.io/music21j/releases/music21.debug',\n",
       "                }\n",
       "            });\n",
       "            rq(['music21'], function(music21) {\n",
       "                mp = new music21.miditools.MidiPlayer();\n",
       "                mp.addPlayer(\"#midiPlayerDiv2026\");\n",
       "                mp.base64Load(\"data:audio/midi;base64,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\");\n",
       "            });\n",
       "        }\n",
       "        if (typeof require === 'undefined') {\n",
       "            setTimeout(midiPlayerDiv2026_play, 2000);\n",
       "        } else {\n",
       "            midiPlayerDiv2026_play();\n",
       "        }\n",
       "        </script>"
      ],
      "text/plain": [
       "<IPython.core.display.HTML object>"
      ]
     },
     "metadata": {},
     "output_type": "display_data"
    }
   ],
   "source": [
    "# Complete actual chorale (ground truth)\n",
    "seed_chords = test_data[2]\n",
    "\n",
    "chorale = seed_chords\n",
    "s = stream.Stream()\n",
    "for row in chorale:\n",
    "    s.append(chord.Chord([n for n in row if n], quarterLength=1))\n",
    "s.show('midi')"
   ]
  },
  {
   "cell_type": "code",
   "execution_count": 18,
   "id": "ca8e0a6c-d3e4-4be6-a38e-81d5af1a3591",
   "metadata": {
    "scrolled": true
   },
   "outputs": [],
   "source": [
    "# Generate new chords based on initial two chords (8 notes)\n",
    "# Results can be better and more creative by introducing temperature, top_p etc.\n",
    "seed_chords = test_data[2][:8]\n",
    "new_chorale = generate_chorale(model, seed_chords, 56)"
   ]
  },
  {
   "cell_type": "code",
   "execution_count": 19,
   "id": "e66b0035-c413-48c3-8053-eac31ef7940f",
   "metadata": {
    "scrolled": true
   },
   "outputs": [
    {
     "data": {
      "text/plain": [
       "array([[73, 68, 61, 53],\n",
       "       [73, 68, 61, 53],\n",
       "       [73, 68, 61, 53],\n",
       "       [73, 68, 61, 53],\n",
       "       [69, 66, 61, 54],\n",
       "       [69, 66, 61, 54],\n",
       "       [69, 66, 61, 54],\n",
       "       [69, 66, 61, 54],\n",
       "       [71, 61, 59, 56],\n",
       "       [71, 61, 59, 56],\n",
       "       [71, 63, 59, 54],\n",
       "       [71, 63, 59, 54],\n",
       "       [71, 64, 59, 56],\n",
       "       [71, 64, 59, 56],\n",
       "       [71, 64, 59, 58],\n",
       "       [71, 64, 59, 58],\n",
       "       [67, 64, 61, 58],\n",
       "       [67, 64, 61, 58],\n",
       "       [64, 64, 61, 58],\n",
       "       [64, 64, 61, 58],\n",
       "       [64, 64, 61, 58],\n",
       "       [64, 64, 61, 58],\n",
       "       [66, 64, 61, 58],\n",
       "       [66, 64, 61, 58],\n",
       "       [66, 63, 59, 58],\n",
       "       [66, 63, 59, 58],\n",
       "       [66, 63, 59, 58],\n",
       "       [66, 63, 59, 58],\n",
       "       [66, 63, 59, 58],\n",
       "       [66, 63, 59, 57],\n",
       "       [66, 63, 59, 57],\n",
       "       [66, 63, 59, 59],\n",
       "       [66, 63, 59, 54],\n",
       "       [66, 63, 59, 54],\n",
       "       [66, 63, 59, 54],\n",
       "       [66, 63, 59, 54],\n",
       "       [66, 63, 59, 54],\n",
       "       [66, 63, 59, 55],\n",
       "       [67, 64, 59, 55],\n",
       "       [67, 64, 59, 55],\n",
       "       [69, 66, 63, 55],\n",
       "       [69, 66, 63, 59],\n",
       "       [71, 66, 63, 59],\n",
       "       [71, 66, 63, 59],\n",
       "       [73, 66, 63, 59],\n",
       "       [73, 66, 63, 59],\n",
       "       [73, 66, 59, 59],\n",
       "       [73, 66, 59, 59],\n",
       "       [73, 66, 61, 58],\n",
       "       [73, 66, 61, 58],\n",
       "       [73, 66, 61, 58],\n",
       "       [73, 66, 61, 58],\n",
       "       [75, 66, 59, 59],\n",
       "       [75, 66, 59, 59],\n",
       "       [75, 66, 59, 59],\n",
       "       [75, 66, 59, 59],\n",
       "       [74, 66, 59, 59],\n",
       "       [74, 66, 59, 59],\n",
       "       [74, 66, 59, 59],\n",
       "       [74, 66, 59, 59],\n",
       "       [75, 66, 59, 47],\n",
       "       [75, 66, 59, 47],\n",
       "       [75, 66, 59, 47],\n",
       "       [75, 66, 59, 47]])"
      ]
     },
     "execution_count": 19,
     "metadata": {},
     "output_type": "execute_result"
    }
   ],
   "source": [
    "new_chorale"
   ]
  },
  {
   "cell_type": "code",
   "execution_count": 20,
   "id": "dbb078e4-3e46-40c1-9dcb-10b32d09dae3",
   "metadata": {},
   "outputs": [
    {
     "data": {
      "text/html": [
       "\n",
       "        <div id=\"midiPlayerDiv2355\"></div>\n",
       "        <link rel=\"stylesheet\" href=\"https://cuthbertLab.github.io/music21j/css/m21.css\">\n",
       "        \n",
       "        <script\n",
       "        src=\"https://cdnjs.cloudflare.com/ajax/libs/require.js/2.3.6/require.min.js\"\n",
       "        ></script>\n",
       "    \n",
       "        <script>\n",
       "        function midiPlayerDiv2355_play() {\n",
       "            const rq = require.config({\n",
       "                paths: {\n",
       "                    'music21': 'https://cuthbertLab.github.io/music21j/releases/music21.debug',\n",
       "                }\n",
       "            });\n",
       "            rq(['music21'], function(music21) {\n",
       "                mp = new music21.miditools.MidiPlayer();\n",
       "                mp.addPlayer(\"#midiPlayerDiv2355\");\n",
       "                mp.base64Load(\"data:audio/midi;base64,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\");\n",
       "            });\n",
       "        }\n",
       "        if (typeof require === 'undefined') {\n",
       "            setTimeout(midiPlayerDiv2355_play, 2000);\n",
       "        } else {\n",
       "            midiPlayerDiv2355_play();\n",
       "        }\n",
       "        </script>"
      ],
      "text/plain": [
       "<IPython.core.display.HTML object>"
      ]
     },
     "metadata": {},
     "output_type": "display_data"
    }
   ],
   "source": [
    "# listen to generated piece\n",
    "\n",
    "chorale = new_chorale.tolist()\n",
    "s = stream.Stream()\n",
    "for row in chorale:\n",
    "    s.append(chord.Chord([n for n in row if n], quarterLength=1))\n",
    "s.show('midi')"
   ]
  },
  {
   "cell_type": "code",
   "execution_count": 21,
   "id": "1c07b5e7-a073-4238-b3fb-7c7bea7d8cfd",
   "metadata": {},
   "outputs": [],
   "source": [
    "def generate_random_chorale(length, rest_probability=0.2, pitch_low=36, pitch_high=81, seed=None):\n",
    "    rng = np.random.default_rng(seed)  # random number generator\n",
    "    random_pitches = rng.integers(pitch_low, pitch_high + 1, size=(length, 4))  # generate random notes\n",
    "\n",
    "    # some masking to have both silence and random pitches\n",
    "    rest_mask = rng.random((length, 4)) < float(rest_probability)\n",
    "    chorale = np.where(rest_mask, 0, random_pitches).astype(int)\n",
    "    \n",
    "    return chorale"
   ]
  },
  {
   "cell_type": "code",
   "execution_count": 22,
   "id": "4ea24e7b-fe61-4846-bcba-6ab609152872",
   "metadata": {},
   "outputs": [
    {
     "data": {
      "text/html": [
       "\n",
       "        <div id=\"midiPlayerDiv2644\"></div>\n",
       "        <link rel=\"stylesheet\" href=\"https://cuthbertLab.github.io/music21j/css/m21.css\">\n",
       "        \n",
       "        <script\n",
       "        src=\"https://cdnjs.cloudflare.com/ajax/libs/require.js/2.3.6/require.min.js\"\n",
       "        ></script>\n",
       "    \n",
       "        <script>\n",
       "        function midiPlayerDiv2644_play() {\n",
       "            const rq = require.config({\n",
       "                paths: {\n",
       "                    'music21': 'https://cuthbertLab.github.io/music21j/releases/music21.debug',\n",
       "                }\n",
       "            });\n",
       "            rq(['music21'], function(music21) {\n",
       "                mp = new music21.miditools.MidiPlayer();\n",
       "                mp.addPlayer(\"#midiPlayerDiv2644\");\n",
       "                mp.base64Load(\"data:audio/midi;base64,TVRoZAAAAAYAAQACJ2BNVHJrAAAAFAD/UQMHoSAA/1gEBAIYCM5g/y8ATVRyawAABW4A/wMAAOAAQM5gkCdaAJAzWgCQQlrOYIAnAACAMwAAgEIAAJA/WgCQNVoAkEdaAJAzWs5ggD8AAIA1AACARwAAgDMAAJBFWgCQRloAkCRaAJAqWs5ggEUAAIBGAACAJAAAgCoAAJAyWgCQNVrOYIAyAACANQAAkC9azmCALwAAkDlaAJA9Ws5ggDkAAIA9AACQS1oAkExazmCASwAAgEwAAJAmWgCQMVoAkEhaAJApWs5ggCYAAIAxAACASAAAgCkAAJBOWgCQMVoAkD9azmCATgAAgDEAAIA/AACQK1oAkDJazmCAKwAAgDIAAJAqWgCQSVoAkD5azmCAKgAAgEkAAIA+AACQO1oAkEBazmCAOwAAgEAAAJAtWgCQJVoAkEFaAJApWs5ggC0AAIAlAACAQQAAgCkAAJAoWgCQMVrOYIAoAACAMQAAkCRaAJA9Ws5ggCQAAIA9AACQJFrOYIAkAACQQVoAkCZazmCAQQAAgCYAAJAwWgCQOVoAkExazmCAMAAAgDkAAIBMAACQJVoAkFFaAJBLWgCQTFrOYIAlAACAUQAAgEsAAIBMAACQMFoAkD1aAJAzWs5ggDAAAIA9AACAMwAAkDZaAJA8WgCQL1oAkDRazmCANgAAgDwAAIAvAACANAAAkChazmCAKAAAkDNaAJBKWgCQJ1oAkExazmCAMwAAgEoAAIAnAACATAAAkCxaAJBRWs5ggCwAAIBRAACQQloAkDRaAJAtWgCQT1rOYIBCAACANAAAgC0AAIBPAACQSloAkElaAJBPWs5ggEoAAIBJAACATwAAkE1aAJAlWgCQS1rOYIBNAACAJQAAgEsAAJAnWgCQRloAkD9azmCAJwAAgEYAAIA/AACQUFoAkEVaAJAvWs5ggFAAAIBFAACALwAAkDxaAJBGWgCQTlrOYIA8AACARgAAgE4AAJAnWgCQJ1oAkDdaAJA2Ws5ggCcAAIAnAACANwAAgDYAAJAoWgCQK1oAkEtazmCAKAAAgCsAAIBLAACQPloAkEVaAJBNWgCQQlrOYIA+AACARQAAgE0AAIBCAACQN1oAkC1aAJA8WgCQPFrOYIA3AACALQAAgDwAAIA8AACQQFrOYIBAAACQSVoAkEVaAJA+WgCQQlrOYIBJAACARQAAgD4AAIBCAACQPloAkFFaAJA8WgCQJFrOYIA+AACAUQAAgDwAAIAkAACQLloAkDJaAJAtWs5ggC4AAIAyAACALQAAkC9aAJAqWs5ggC8AAIAqAACQLVoAkFFaAJAyWs5ggC0AAIBRAACAMgAAkENaAJAtWs5ggEMAAIAtAACQLVoAkE1aAJArWs5ggC0AAIBNAACAKwAAkDdaAJBFWgCQTFoAkChazmCANwAAgEUAAIBMAACAKAAAkCpaAJBJWgCQSFoAkD1azmCAKgAAgEkAAIBIAACAPQAAkC5aAJBQWgCQSVrOYIAuAACAUAAAgEkAAJA3WgCQMloAkFFazmCANwAAgDIAAIBRAACQQFoAkCdaAJArWs5ggEAAAIAnAACAKwAAkEdaAJAnWgCQS1rOYIBHAACAJwAAgEsAAJA6WgCQM1oAkCRaAJA2Ws5ggDoAAIAzAACAJAAAgDYAAJAxWgCQK1oAkDJazmCAMQAAgCsAAIAyAACQN1oAkEtaAJAtWgCQPVrOYIA3AACASwAAgC0AAIA9AACQMVoAkExaAJA+Ws5ggDEAAIBMAACAPgAAkCtaAJBMWgCQUFrOYIArAACATAAAgFAAAJA0Ws5ggDQAAJBBWgCQS1oAkC5azmCAQQAAgEsAAIAuAACQJloAkDdaAJBBWgCQMVrOYIAmAACANwAAgEEAAIAxAM5g/y8A\");\n",
       "            });\n",
       "        }\n",
       "        if (typeof require === 'undefined') {\n",
       "            setTimeout(midiPlayerDiv2644_play, 2000);\n",
       "        } else {\n",
       "            midiPlayerDiv2644_play();\n",
       "        }\n",
       "        </script>"
      ],
      "text/plain": [
       "<IPython.core.display.HTML object>"
      ]
     },
     "metadata": {},
     "output_type": "display_data"
    }
   ],
   "source": [
    "# listen to completely random music to compare the quality to what our model generated\n",
    "chorale = generate_random_chorale(56).tolist()\n",
    "s = stream.Stream()\n",
    "for row in chorale:\n",
    "    s.append(chord.Chord([n for n in row if n], quarterLength=1))\n",
    "s.show('midi')"
   ]
  },
  {
   "cell_type": "code",
   "execution_count": 23,
   "id": "15ae5d71-7f05-4313-a4f3-202a9bc4dd9f",
   "metadata": {},
   "outputs": [],
   "source": [
    "# save model\n",
    "model.save('bach_generation_conv1d_lstm.keras')"
   ]
  },
  {
   "cell_type": "code",
   "execution_count": 24,
   "id": "56da23c4-fcca-4ffd-9e4a-b24bd90b66d6",
   "metadata": {},
   "outputs": [],
   "source": [
    "from tensorflow import keras\n",
    "\n",
    "loaded_model = keras.models.load_model(\"bach_generation_conv1d_lstm.keras\")"
   ]
  },
  {
   "cell_type": "code",
   "execution_count": 25,
   "id": "7fb3e544-5e1a-4dc5-a8c5-2709d0747c8e",
   "metadata": {},
   "outputs": [],
   "source": [
    "new_chorale = generate_chorale(loaded_model, seed_chords, 56)"
   ]
  },
  {
   "cell_type": "code",
   "execution_count": 26,
   "id": "8a48e5c8-af78-4b28-93e9-96445257ede7",
   "metadata": {},
   "outputs": [
    {
     "data": {
      "text/plain": [
       "array([[73, 68, 61, 53],\n",
       "       [73, 68, 61, 53],\n",
       "       [73, 68, 61, 53],\n",
       "       [73, 68, 61, 53],\n",
       "       [69, 66, 61, 54],\n",
       "       [69, 66, 61, 54],\n",
       "       [69, 66, 61, 54],\n",
       "       [69, 66, 61, 54],\n",
       "       [68, 64, 61, 61],\n",
       "       [68, 64, 61, 61],\n",
       "       [68, 64, 61, 57],\n",
       "       [68, 64, 61, 57],\n",
       "       [69, 66, 62, 59],\n",
       "       [69, 66, 62, 59],\n",
       "       [74, 68, 62, 59],\n",
       "       [74, 68, 62, 59],\n",
       "       [74, 68, 62, 59],\n",
       "       [74, 68, 62, 59],\n",
       "       [74, 69, 62, 54],\n",
       "       [74, 69, 62, 54],\n",
       "       [74, 71, 59, 56],\n",
       "       [74, 71, 59, 56],\n",
       "       [73, 69, 61, 57],\n",
       "       [73, 69, 61, 57],\n",
       "       [73, 69, 61, 57],\n",
       "       [73, 69, 61, 57],\n",
       "       [74, 69, 62, 56],\n",
       "       [74, 69, 62, 56],\n",
       "       [76, 67, 61, 56],\n",
       "       [76, 67, 61, 56],\n",
       "       [76, 66, 61, 54],\n",
       "       [76, 66, 61, 54],\n",
       "       [75, 66, 62, 54],\n",
       "       [75, 66, 62, 54],\n",
       "       [76, 66, 62, 54],\n",
       "       [76, 66, 62, 54],\n",
       "       [76, 66, 62, 59],\n",
       "       [76, 66, 59, 59],\n",
       "       [75, 66, 59, 59],\n",
       "       [75, 66, 59, 59],\n",
       "       [78, 65, 59, 61],\n",
       "       [78, 65, 59, 61],\n",
       "       [78, 65, 59, 61],\n",
       "       [78, 65, 59, 61],\n",
       "       [78, 66, 58, 54],\n",
       "       [78, 66, 58, 54],\n",
       "       [78, 66, 58, 54],\n",
       "       [78, 66, 58, 54],\n",
       "       [76, 70, 61, 56],\n",
       "       [76, 70, 61, 56],\n",
       "       [76, 70, 61, 56],\n",
       "       [76, 70, 61, 56],\n",
       "       [74, 71, 66, 59],\n",
       "       [74, 71, 66, 59],\n",
       "       [74, 71, 66, 59],\n",
       "       [74, 71, 66, 59],\n",
       "       [73, 64, 57, 52],\n",
       "       [73, 64, 57, 52],\n",
       "       [73, 64, 59, 52],\n",
       "       [73, 64, 59, 52],\n",
       "       [73, 66, 57, 54],\n",
       "       [73, 66, 57, 54],\n",
       "       [73, 67, 57, 54],\n",
       "       [73, 67, 57, 54]])"
      ]
     },
     "execution_count": 26,
     "metadata": {},
     "output_type": "execute_result"
    }
   ],
   "source": [
    "new_chorale"
   ]
  }
 ],
 "metadata": {
  "kernelspec": {
   "display_name": "Python 3 (ipykernel)",
   "language": "python",
   "name": "python3"
  },
  "language_info": {
   "codemirror_mode": {
    "name": "ipython",
    "version": 3
   },
   "file_extension": ".py",
   "mimetype": "text/x-python",
   "name": "python",
   "nbconvert_exporter": "python",
   "pygments_lexer": "ipython3",
   "version": "3.11.13"
  }
 },
 "nbformat": 4,
 "nbformat_minor": 5
}
